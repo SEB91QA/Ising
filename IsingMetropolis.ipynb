{
 "cells": [
  {
   "cell_type": "markdown",
   "metadata": {},
   "source": [
    "# Ising Model"
   ]
  },
  {
   "cell_type": "code",
   "execution_count": null,
   "metadata": {
    "scrolled": true
   },
   "outputs": [
    {
     "data": {
      "text/html": [
       "<div id=\"glowscript\" class=\"glowscript\"></div>"
      ],
      "text/plain": [
       "<IPython.core.display.HTML object>"
      ]
     },
     "metadata": {},
     "output_type": "display_data"
    },
    {
     "data": {
      "application/javascript": [
       "if (typeof Jupyter !== \"undefined\") { window.__context = { glowscript_container: $(\"#glowscript\").removeAttr(\"id\")};}else{ element.textContent = ' ';}"
      ],
      "text/plain": [
       "<IPython.core.display.Javascript object>"
      ]
     },
     "metadata": {},
     "output_type": "display_data"
    }
   ],
   "source": [
    "from vpython import *; import random, numpy as np\n",
    "\n",
    "\n",
    "#Se establece las dimensiones de la gráfica\n",
    "scene = canvas(x=0,y=0,width=700,height=150,range=10,title='Spins')\n",
    "\n",
    "engraph = graph(y=200,width=700,height=150,title='E of the System', xtitle='Iteraciones',ytitle ='E',xmax=100, xmin=0,ymax=5,ymin=-5)\n",
    "\n",
    "enplot = gcurve(color=color.blue, graph=engraph)\n",
    "\n",
    "\n",
    "\n",
    "N = 50            #Número de Espines\n",
    "B = 0.0           #Valor del campo magnético externo\n",
    "mu = 0.33         #Valor del momento magnético\n",
    "J = 1.0           #Factor J -> J = 1 ferromagnético. \n",
    "k = 1.0           #Constante de Boltzman\n",
    "T = 100           #Temperatura\n",
    "\n",
    "\n",
    "state = np.zeros((N));  S = np.zeros((N) , float); \n",
    "test = state\n",
    "random.seed()\n",
    "\n",
    "def energy (S):                                                #Se define la energía de sistema.\n",
    "    FirstTerm = 1.\n",
    "    SecondTerm = 0.\n",
    "    for i in range(0,N-2): FirstTerm += S[i]*S[i + 1]          #Término que estudia la interacción de espín\n",
    "    FirstTerm *= -J\n",
    "\n",
    "    for i in range(0,N-1): SecondTerm += S[i]                  #Término asociado al campo magnético externo (B=0)\n",
    "    SecondTerm *= -B*mu;           \n",
    "    return (FirstTerm + SecondTerm);\n",
    "\n",
    "ES = energy(state)\n",
    "\n",
    "def spstate (state):                                           # Se establece la visualización de espines.\n",
    "    for obj in scene.objects: obj.visible = 0\n",
    "    j=0\n",
    "    for i in range(-N,N,2):\n",
    "        if state[j]==-1: ypos = 5\n",
    "        else:            ypos = 0 \n",
    "         \n",
    "        if  5*state[j]<0: arrowcol = vector(1,1,1)\n",
    "        else:             arrowcol = vector (0.7 ,0.8 ,0)\n",
    "                \n",
    "        arrow(pos=vector(i ,ypos,0),axis=vector(0,5*state[j],0),\n",
    "                         color=arrowcol)\n",
    "        j += 1\n",
    "            \n",
    "for i in range(0 ,N): state[i] = -1\n",
    "    \n",
    "for obj in scene.objects: obj.visible = 0\n",
    "spstate(state)\n",
    "ES = energy(state)\n",
    "\n",
    "for j in range (1 ,1000):                    #Se establece el rango para graficar la energía con la configuración de espines.\n",
    "    rate (3)\n",
    "    test = state\n",
    "    #p r i n t ( ’ k o ’ )\n",
    "    r = int(N*random.random());\n",
    "    test[r] *= -1\n",
    "    ET = energy(test)\n",
    "    p = np.exp((ES-ET)/(k*T))\n",
    "    enplot.plot(pos=(j,ES))\n",
    "    if p>=random.random():\n",
    "        state = test\n",
    "        spstate(state)\n",
    "        ES = ET\n",
    "        \n",
    "        \n",
    "    \n",
    "    \n"
   ]
  },
  {
   "cell_type": "code",
   "execution_count": null,
   "metadata": {},
   "outputs": [],
   "source": []
  },
  {
   "cell_type": "code",
   "execution_count": null,
   "metadata": {},
   "outputs": [],
   "source": []
  },
  {
   "cell_type": "code",
   "execution_count": null,
   "metadata": {},
   "outputs": [],
   "source": []
  }
 ],
 "metadata": {
  "kernelspec": {
   "display_name": "Python 3",
   "language": "python",
   "name": "python3"
  },
  "language_info": {
   "codemirror_mode": {
    "name": "ipython",
    "version": 3
   },
   "file_extension": ".py",
   "mimetype": "text/x-python",
   "name": "python",
   "nbconvert_exporter": "python",
   "pygments_lexer": "ipython3",
   "version": "3.6.10"
  }
 },
 "nbformat": 4,
 "nbformat_minor": 4
}
